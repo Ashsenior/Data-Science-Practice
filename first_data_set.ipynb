{
 "cells": [
  {
   "cell_type": "code",
   "execution_count": 1,
   "id": "60ad257c",
   "metadata": {},
   "outputs": [],
   "source": [
    "import pandas as pd\n",
    "pd.set_option('max_rows',5)\n",
    "import numpy as np\n",
    "\n",
    "data = pd.read_csv('fortune_2000_in_2021.csv')"
   ]
  },
  {
   "cell_type": "code",
   "execution_count": 2,
   "id": "11a74fbe",
   "metadata": {},
   "outputs": [
    {
     "name": "stdout",
     "output_type": "stream",
     "text": [
      "   Rank                Name        Country     Sales   Profit      Assets  \\\n",
      "0     1                ICBC          China  $190.5 B  $45.8 B  $4,914.7 B   \n",
      "1     2      JPMorgan Chase  United States  $136.2 B  $40.4 B  $3,689.3 B   \n",
      "2     3  Berkshire Hathaway  United States  $245.5 B  $42.5 B    $873.7 B   \n",
      "\n",
      "  Market Value  \n",
      "0     $249.5 B  \n",
      "1     $464.8 B  \n",
      "2     $624.4 B  \n"
     ]
    }
   ],
   "source": [
    "print(data.head(3))"
   ]
  },
  {
   "cell_type": "code",
   "execution_count": 7,
   "id": "7b4e47f1",
   "metadata": {},
   "outputs": [],
   "source": [
    "data2 = data.loc[(data.Country=='India')]"
   ]
  },
  {
   "cell_type": "code",
   "execution_count": 13,
   "id": "beb6d4e5",
   "metadata": {
    "scrolled": false
   },
   "outputs": [
    {
     "name": "stdout",
     "output_type": "stream",
     "text": [
      "0    45.8\n",
      "1    40.4\n",
      "     ... \n",
      "4    49.3\n",
      "5    63.9\n",
      "Name: int_profit, Length: 6, dtype: float64\n"
     ]
    }
   ],
   "source": [
    "def clean(row):\n",
    "    row[\"int_profit\"] = float(row.Profit[1:len(row.Profit)-1])\n",
    "    row[\"int_sales\"] = float(row.Sales[1:(len(row.Sales)-1)])\n",
    "    return row\n",
    "\n",
    "new_data = data.apply(clean,axis='columns')\n",
    "print(new_data.loc[0:5].int_profit)\n",
    "new_data.loc[data.Country==\"India\"].to_csv(\"india_fortune.csv\")"
   ]
  },
  {
   "cell_type": "code",
   "execution_count": null,
   "id": "87324c04",
   "metadata": {},
   "outputs": [],
   "source": [
    "new_data.groupby(\"Country\").int_profit.agg([len,min,max]).head()"
   ]
  },
  {
   "cell_type": "code",
   "execution_count": null,
   "id": "9232582f",
   "metadata": {},
   "outputs": [],
   "source": [
    "print(df2)"
   ]
  },
  {
   "cell_type": "code",
   "execution_count": null,
   "id": "988adc1c",
   "metadata": {},
   "outputs": [],
   "source": [
    "df2.describe()"
   ]
  },
  {
   "cell_type": "code",
   "execution_count": null,
   "id": "988a4040",
   "metadata": {},
   "outputs": [],
   "source": [
    "df2.loc[0:2,['A']]"
   ]
  },
  {
   "cell_type": "code",
   "execution_count": null,
   "id": "342fbac3",
   "metadata": {},
   "outputs": [],
   "source": [
    "print(df)"
   ]
  },
  {
   "cell_type": "code",
   "execution_count": null,
   "id": "c4fefd90",
   "metadata": {},
   "outputs": [],
   "source": [
    "data2 = data.loc[(data.Country==\"India\")]"
   ]
  },
  {
   "cell_type": "code",
   "execution_count": null,
   "id": "f0a9ce8c",
   "metadata": {},
   "outputs": [],
   "source": []
  }
 ],
 "metadata": {
  "kernelspec": {
   "display_name": "Python 3 (ipykernel)",
   "language": "python",
   "name": "python3"
  },
  "language_info": {
   "codemirror_mode": {
    "name": "ipython",
    "version": 3
   },
   "file_extension": ".py",
   "mimetype": "text/x-python",
   "name": "python",
   "nbconvert_exporter": "python",
   "pygments_lexer": "ipython3",
   "version": "3.9.9"
  }
 },
 "nbformat": 4,
 "nbformat_minor": 5
}
