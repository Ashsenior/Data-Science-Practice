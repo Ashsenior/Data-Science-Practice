{
 "cells": [
  {
   "cell_type": "code",
   "execution_count": 1,
   "id": "1c54c2e5",
   "metadata": {},
   "outputs": [],
   "source": [
    "import numpy as np"
   ]
  },
  {
   "cell_type": "code",
   "execution_count": 2,
   "id": "636b3fd3",
   "metadata": {},
   "outputs": [
    {
     "data": {
      "text/plain": [
       "array([[9, 9, 3, 0, 3],\n",
       "       [5, 6, 6, 0, 2],\n",
       "       [7, 4, 9, 9, 0]])"
      ]
     },
     "execution_count": 2,
     "metadata": {},
     "output_type": "execute_result"
    }
   ],
   "source": [
    "# random.randnt(max_int,size=(shape of array))\n",
    "arr = np.random.randint(10,size=(3,5))\n",
    "arr"
   ]
  },
  {
   "cell_type": "code",
   "execution_count": 3,
   "id": "191cfa20",
   "metadata": {},
   "outputs": [
    {
     "data": {
      "text/plain": [
       "array([0, 2, 3, 4, 5, 6, 7, 9])"
      ]
     },
     "execution_count": 3,
     "metadata": {},
     "output_type": "execute_result"
    }
   ],
   "source": [
    "unique = np.unique(arr)\n",
    "unique"
   ]
  },
  {
   "cell_type": "code",
   "execution_count": 4,
   "id": "125a1604",
   "metadata": {},
   "outputs": [
    {
     "data": {
      "text/plain": [
       "array([[0.4359949 , 0.02592623, 0.54966248, 0.43532239, 0.4203678 ],\n",
       "       [0.33033482, 0.20464863, 0.61927097, 0.29965467, 0.26682728],\n",
       "       [0.62113383, 0.52914209, 0.13457995, 0.51357812, 0.18443987]])"
      ]
     },
     "execution_count": 4,
     "metadata": {},
     "output_type": "execute_result"
    }
   ],
   "source": [
    "np.random.seed(seed=2) # will keep the randomly genetrated numbers same\n",
    "np.random.random(size=(3,5))"
   ]
  },
  {
   "cell_type": "code",
   "execution_count": 5,
   "id": "1fa59cad",
   "metadata": {},
   "outputs": [
    {
     "data": {
      "text/plain": [
       "array([[0.4359949 , 0.02592623, 0.54966248, 0.43532239, 0.4203678 ],\n",
       "       [0.33033482, 0.20464863, 0.61927097, 0.29965467, 0.26682728],\n",
       "       [0.62113383, 0.52914209, 0.13457995, 0.51357812, 0.18443987]])"
      ]
     },
     "execution_count": 5,
     "metadata": {},
     "output_type": "execute_result"
    }
   ],
   "source": [
    "np.random.seed(seed=2) # seed=2 is a type of id for the generated numbers\n",
    "np.random.random(size=(3,5))"
   ]
  },
  {
   "cell_type": "code",
   "execution_count": 6,
   "id": "ff5d3e19",
   "metadata": {},
   "outputs": [],
   "source": [
    "new_arr = np.random.randint(10,size=(2,3,4,3))"
   ]
  },
  {
   "cell_type": "code",
   "execution_count": 7,
   "id": "e174a38b",
   "metadata": {},
   "outputs": [
    {
     "data": {
      "text/plain": [
       "array([[[[7, 6],\n",
       "         [3, 5]],\n",
       "\n",
       "        [[4, 2],\n",
       "         [1, 7]]]])"
      ]
     },
     "execution_count": 7,
     "metadata": {},
     "output_type": "execute_result"
    }
   ],
   "source": [
    "new_arr[:1,:2,:2,:2]"
   ]
  },
  {
   "cell_type": "code",
   "execution_count": 8,
   "id": "22f51123",
   "metadata": {},
   "outputs": [],
   "source": [
    "ar1 = np.random.randint(10,size=(3,4))\n",
    "ar2 = np.random.randint(10,size=(2,3,4))"
   ]
  },
  {
   "cell_type": "code",
   "execution_count": 9,
   "id": "058e5936",
   "metadata": {},
   "outputs": [
    {
     "data": {
      "text/plain": [
       "array([[[ 4, 27, 12,  1],\n",
       "        [ 0,  0,  8, 40],\n",
       "        [36,  0, 63,  0]],\n",
       "\n",
       "       [[20,  6, 30,  1],\n",
       "        [12,  0,  8, 40],\n",
       "        [24, 16,  9, 35]]])"
      ]
     },
     "execution_count": 9,
     "metadata": {},
     "output_type": "execute_result"
    }
   ],
   "source": [
    "ar1*ar2"
   ]
  },
  {
   "cell_type": "code",
   "execution_count": 10,
   "id": "5c9e3d5c",
   "metadata": {},
   "outputs": [
    {
     "name": "stdout",
     "output_type": "stream",
     "text": [
      "53 93\n"
     ]
    }
   ],
   "source": [
    "print(np.sum(ar1),np.sum(ar2))"
   ]
  },
  {
   "cell_type": "code",
   "execution_count": 11,
   "id": "62fb1c00",
   "metadata": {},
   "outputs": [
    {
     "name": "stdout",
     "output_type": "stream",
     "text": [
      "4.416666666666667 3.875\n"
     ]
    }
   ],
   "source": [
    "print(np.mean(ar1),np.mean(ar2))"
   ]
  },
  {
   "cell_type": "code",
   "execution_count": 12,
   "id": "5bbaa6c1",
   "metadata": {},
   "outputs": [],
   "source": [
    "high_var_arr = np.array([1,234,456,700,1500,5000])\n",
    "low_var_arr = np.array([1,4,7,8,10,15])"
   ]
  },
  {
   "cell_type": "code",
   "execution_count": 13,
   "id": "3a4111e5",
   "metadata": {},
   "outputs": [
    {
     "data": {
      "text/plain": [
       "(1713.8996875222565, 4.425306015783918)"
      ]
     },
     "execution_count": 13,
     "metadata": {},
     "output_type": "execute_result"
    }
   ],
   "source": [
    "# variance is degree up to which each number is different to the mean\n",
    "np.var(high_var_arr),np.var(low_var_arr)\n",
    "# standard deviation = squareroot(variance)\n",
    "np.std(high_var_arr),np.std(low_var_arr)"
   ]
  },
  {
   "cell_type": "code",
   "execution_count": 14,
   "id": "e9d59cdf",
   "metadata": {},
   "outputs": [
    {
     "data": {
      "text/plain": [
       "array([[100,  87],\n",
       "       [ 91,  56],\n",
       "       [  8,  12]])"
      ]
     },
     "execution_count": 14,
     "metadata": {},
     "output_type": "execute_result"
    }
   ],
   "source": [
    "arr = np.random.randint(10,size=(3,3))\n",
    "arr2 = np.random.randint(10,size=(3,2))\n",
    "arr.dot(arr2)"
   ]
  },
  {
   "cell_type": "code",
   "execution_count": 15,
   "id": "72a83c78",
   "metadata": {},
   "outputs": [],
   "source": [
    "import pandas as pd\n",
    "nut_sales = pd.read_csv('nut_butter_sales.csv')"
   ]
  },
  {
   "cell_type": "code",
   "execution_count": 16,
   "id": "37ea696c",
   "metadata": {},
   "outputs": [
    {
     "data": {
      "text/html": [
       "<div>\n",
       "<style scoped>\n",
       "    .dataframe tbody tr th:only-of-type {\n",
       "        vertical-align: middle;\n",
       "    }\n",
       "\n",
       "    .dataframe tbody tr th {\n",
       "        vertical-align: top;\n",
       "    }\n",
       "\n",
       "    .dataframe thead th {\n",
       "        text-align: right;\n",
       "    }\n",
       "</style>\n",
       "<table border=\"1\" class=\"dataframe\">\n",
       "  <thead>\n",
       "    <tr style=\"text-align: right;\">\n",
       "      <th></th>\n",
       "      <th>day</th>\n",
       "      <th>almond</th>\n",
       "      <th>peanut</th>\n",
       "      <th>cashew</th>\n",
       "    </tr>\n",
       "  </thead>\n",
       "  <tbody>\n",
       "    <tr>\n",
       "      <th>0</th>\n",
       "      <td>Mon</td>\n",
       "      <td>5</td>\n",
       "      <td>6</td>\n",
       "      <td>7</td>\n",
       "    </tr>\n",
       "    <tr>\n",
       "      <th>1</th>\n",
       "      <td>Tue</td>\n",
       "      <td>3</td>\n",
       "      <td>6</td>\n",
       "      <td>9</td>\n",
       "    </tr>\n",
       "    <tr>\n",
       "      <th>2</th>\n",
       "      <td>Wed</td>\n",
       "      <td>7</td>\n",
       "      <td>8</td>\n",
       "      <td>3</td>\n",
       "    </tr>\n",
       "    <tr>\n",
       "      <th>3</th>\n",
       "      <td>Thu</td>\n",
       "      <td>9</td>\n",
       "      <td>6</td>\n",
       "      <td>4</td>\n",
       "    </tr>\n",
       "    <tr>\n",
       "      <th>4</th>\n",
       "      <td>Fri</td>\n",
       "      <td>10</td>\n",
       "      <td>12</td>\n",
       "      <td>4</td>\n",
       "    </tr>\n",
       "  </tbody>\n",
       "</table>\n",
       "</div>"
      ],
      "text/plain": [
       "   day  almond  peanut  cashew\n",
       "0  Mon       5       6       7\n",
       "1  Tue       3       6       9\n",
       "2  Wed       7       8       3\n",
       "3  Thu       9       6       4\n",
       "4  Fri      10      12       4"
      ]
     },
     "execution_count": 16,
     "metadata": {},
     "output_type": "execute_result"
    }
   ],
   "source": [
    "nut_sales"
   ]
  },
  {
   "cell_type": "code",
   "execution_count": 17,
   "id": "4a9d2a68",
   "metadata": {},
   "outputs": [],
   "source": [
    "prices = np.array([10,8,12])"
   ]
  },
  {
   "cell_type": "code",
   "execution_count": 18,
   "id": "4f0e8d0f",
   "metadata": {},
   "outputs": [],
   "source": [
    "total_cost = prices.dot(nut_sales[['almond','peanut','cashew']].T)"
   ]
  },
  {
   "cell_type": "code",
   "execution_count": 19,
   "id": "bcf4cdda",
   "metadata": {},
   "outputs": [
    {
     "name": "stdout",
     "output_type": "stream",
     "text": [
      "[182 186 170 186 244]\n"
     ]
    }
   ],
   "source": [
    "nut_sales['total sales'] = total_cost\n",
    "print(total_cost) # sales of monday , tuesday ... friday"
   ]
  },
  {
   "cell_type": "code",
   "execution_count": 20,
   "id": "78a75a9f",
   "metadata": {},
   "outputs": [],
   "source": [
    "nut_sales.rename(columns={'total sales':'total earnings'},inplace=True)"
   ]
  },
  {
   "cell_type": "code",
   "execution_count": 21,
   "id": "1a3bb57c",
   "metadata": {},
   "outputs": [
    {
     "data": {
      "text/html": [
       "<div>\n",
       "<style scoped>\n",
       "    .dataframe tbody tr th:only-of-type {\n",
       "        vertical-align: middle;\n",
       "    }\n",
       "\n",
       "    .dataframe tbody tr th {\n",
       "        vertical-align: top;\n",
       "    }\n",
       "\n",
       "    .dataframe thead th {\n",
       "        text-align: right;\n",
       "    }\n",
       "</style>\n",
       "<table border=\"1\" class=\"dataframe\">\n",
       "  <thead>\n",
       "    <tr style=\"text-align: right;\">\n",
       "      <th></th>\n",
       "      <th>day</th>\n",
       "      <th>almond</th>\n",
       "      <th>peanut</th>\n",
       "      <th>cashew</th>\n",
       "      <th>total earnings</th>\n",
       "    </tr>\n",
       "  </thead>\n",
       "  <tbody>\n",
       "    <tr>\n",
       "      <th>0</th>\n",
       "      <td>Mon</td>\n",
       "      <td>5</td>\n",
       "      <td>6</td>\n",
       "      <td>7</td>\n",
       "      <td>182</td>\n",
       "    </tr>\n",
       "    <tr>\n",
       "      <th>1</th>\n",
       "      <td>Tue</td>\n",
       "      <td>3</td>\n",
       "      <td>6</td>\n",
       "      <td>9</td>\n",
       "      <td>186</td>\n",
       "    </tr>\n",
       "    <tr>\n",
       "      <th>2</th>\n",
       "      <td>Wed</td>\n",
       "      <td>7</td>\n",
       "      <td>8</td>\n",
       "      <td>3</td>\n",
       "      <td>170</td>\n",
       "    </tr>\n",
       "    <tr>\n",
       "      <th>3</th>\n",
       "      <td>Thu</td>\n",
       "      <td>9</td>\n",
       "      <td>6</td>\n",
       "      <td>4</td>\n",
       "      <td>186</td>\n",
       "    </tr>\n",
       "    <tr>\n",
       "      <th>4</th>\n",
       "      <td>Fri</td>\n",
       "      <td>10</td>\n",
       "      <td>12</td>\n",
       "      <td>4</td>\n",
       "      <td>244</td>\n",
       "    </tr>\n",
       "  </tbody>\n",
       "</table>\n",
       "</div>"
      ],
      "text/plain": [
       "   day  almond  peanut  cashew  total earnings\n",
       "0  Mon       5       6       7             182\n",
       "1  Tue       3       6       9             186\n",
       "2  Wed       7       8       3             170\n",
       "3  Thu       9       6       4             186\n",
       "4  Fri      10      12       4             244"
      ]
     },
     "execution_count": 21,
     "metadata": {},
     "output_type": "execute_result"
    }
   ],
   "source": [
    "nut_sales"
   ]
  },
  {
   "cell_type": "code",
   "execution_count": 22,
   "id": "f37242e0",
   "metadata": {},
   "outputs": [],
   "source": [
    "nut_sales['sales'] = nut_sales.loc[:,['almond','peanut','cashew']].sum(axis=1)"
   ]
  },
  {
   "cell_type": "code",
   "execution_count": 23,
   "id": "537c1a20",
   "metadata": {},
   "outputs": [],
   "source": [
    "nut_sales\n",
    "prices = np.array([10,8,12])\n",
    "prices = pd.DataFrame(prices,columns=['price'])"
   ]
  },
  {
   "cell_type": "code",
   "execution_count": 24,
   "id": "40bd3677",
   "metadata": {},
   "outputs": [],
   "source": [
    "prices['butter'] = ['almond','peanut','cashew']"
   ]
  },
  {
   "cell_type": "code",
   "execution_count": 25,
   "id": "d53cdfe2",
   "metadata": {},
   "outputs": [
    {
     "data": {
      "text/html": [
       "<div>\n",
       "<style scoped>\n",
       "    .dataframe tbody tr th:only-of-type {\n",
       "        vertical-align: middle;\n",
       "    }\n",
       "\n",
       "    .dataframe tbody tr th {\n",
       "        vertical-align: top;\n",
       "    }\n",
       "\n",
       "    .dataframe thead th {\n",
       "        text-align: right;\n",
       "    }\n",
       "</style>\n",
       "<table border=\"1\" class=\"dataframe\">\n",
       "  <thead>\n",
       "    <tr style=\"text-align: right;\">\n",
       "      <th></th>\n",
       "      <th>price</th>\n",
       "      <th>butter</th>\n",
       "    </tr>\n",
       "  </thead>\n",
       "  <tbody>\n",
       "    <tr>\n",
       "      <th>0</th>\n",
       "      <td>10</td>\n",
       "      <td>almond</td>\n",
       "    </tr>\n",
       "    <tr>\n",
       "      <th>1</th>\n",
       "      <td>8</td>\n",
       "      <td>peanut</td>\n",
       "    </tr>\n",
       "    <tr>\n",
       "      <th>2</th>\n",
       "      <td>12</td>\n",
       "      <td>cashew</td>\n",
       "    </tr>\n",
       "  </tbody>\n",
       "</table>\n",
       "</div>"
      ],
      "text/plain": [
       "   price  butter\n",
       "0     10  almond\n",
       "1      8  peanut\n",
       "2     12  cashew"
      ]
     },
     "execution_count": 25,
     "metadata": {},
     "output_type": "execute_result"
    }
   ],
   "source": [
    "prices"
   ]
  },
  {
   "cell_type": "code",
   "execution_count": 26,
   "id": "a6f574db",
   "metadata": {},
   "outputs": [
    {
     "data": {
      "text/plain": [
       "((32, 32, 3), 3, 3072)"
      ]
     },
     "execution_count": 26,
     "metadata": {},
     "output_type": "execute_result"
    }
   ],
   "source": [
    "from matplotlib.image import imread\n",
    "smiley = imread(\"smiley.bmp\")\n",
    "smiley.shape , smiley.ndim , smiley.size"
   ]
  },
  {
   "cell_type": "code",
   "execution_count": 28,
   "id": "df4c8cc8",
   "metadata": {},
   "outputs": [
    {
     "data": {
      "text/plain": [
       "array([[7, 3, 4],\n",
       "       [8, 6, 3],\n",
       "       [8, 8, 5]])"
      ]
     },
     "execution_count": 28,
     "metadata": {},
     "output_type": "execute_result"
    }
   ],
   "source": [
    "new_arr = np.random.randint(10,size=(3,3))\n",
    "new_arr"
   ]
  },
  {
   "cell_type": "code",
   "execution_count": 32,
   "id": "41ef0782",
   "metadata": {},
   "outputs": [
    {
     "data": {
      "text/plain": [
       "array([[3, 4, 7],\n",
       "       [3, 6, 8],\n",
       "       [5, 8, 8]])"
      ]
     },
     "execution_count": 32,
     "metadata": {},
     "output_type": "execute_result"
    }
   ],
   "source": [
    "new_arr.sort()\n",
    "new_arr"
   ]
  },
  {
   "cell_type": "code",
   "execution_count": 35,
   "id": "8d1bb548",
   "metadata": {},
   "outputs": [
    {
     "data": {
      "text/plain": [
       "array([2, 2, 1], dtype=int64)"
      ]
     },
     "execution_count": 35,
     "metadata": {},
     "output_type": "execute_result"
    }
   ],
   "source": [
    "new_arr.argmax(axis=1)"
   ]
  },
  {
   "cell_type": "code",
   "execution_count": null,
   "id": "6158547d",
   "metadata": {},
   "outputs": [],
   "source": []
  }
 ],
 "metadata": {
  "kernelspec": {
   "display_name": "Python 3 (ipykernel)",
   "language": "python",
   "name": "python3"
  },
  "language_info": {
   "codemirror_mode": {
    "name": "ipython",
    "version": 3
   },
   "file_extension": ".py",
   "mimetype": "text/x-python",
   "name": "python",
   "nbconvert_exporter": "python",
   "pygments_lexer": "ipython3",
   "version": "3.9.9"
  }
 },
 "nbformat": 4,
 "nbformat_minor": 5
}
