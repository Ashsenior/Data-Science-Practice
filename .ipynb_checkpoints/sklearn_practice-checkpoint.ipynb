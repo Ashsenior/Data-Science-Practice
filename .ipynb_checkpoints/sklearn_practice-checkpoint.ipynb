{
 "cells": [
  {
   "cell_type": "code",
   "execution_count": 1,
   "id": "3d5b6368",
   "metadata": {},
   "outputs": [],
   "source": [
    "import numpy as np\n",
    "import pandas as pd\n",
    "import matplotlib.pyplot as plt\n",
    "%matplotlib inline "
   ]
  },
  {
   "cell_type": "markdown",
   "id": "3c56caeb",
   "metadata": {},
   "source": [
    "### Steps to making machine learning model\n",
    "1 get your data ready \n",
    "2 analyze your data\n",
    "\n"
   ]
  },
  {
   "cell_type": "code",
   "execution_count": 240,
   "id": "8b272b33",
   "metadata": {},
   "outputs": [],
   "source": [
    "# Reading data from csv file \n",
    "data = pd.read_csv('data/new_data.csv')\n",
    "# splitting labels and features \n",
    "X = data.drop(['Rank','Name'],axis=1)\n",
    "Y = data['Rank']\n",
    "# converting Country into numeric data\n",
    "X_transformed = pd.get_dummies(X)"
   ]
  },
  {
   "cell_type": "code",
   "execution_count": 241,
   "id": "dfb3d440",
   "metadata": {},
   "outputs": [],
   "source": [
    "# importing and splitting data into test and train data \n",
    "from sklearn.model_selection import train_test_split\n",
    "x_train,x_test,y_train,y_test = train_test_split(X_transformed,Y,test_size=0.4)"
   ]
  },
  {
   "cell_type": "code",
   "execution_count": 242,
   "id": "07284689",
   "metadata": {},
   "outputs": [],
   "source": [
    "from sklearn.ensemble import RandomForestRegressor"
   ]
  },
  {
   "cell_type": "code",
   "execution_count": 243,
   "id": "330ecc27",
   "metadata": {},
   "outputs": [
    {
     "data": {
      "image/png": "[encoded data removed]",
      "text/plain": [
       "<Figure size 432x288 with 1 Axes>"
      ]
     },
     "metadata": {
      "needs_background": "light"
     },
     "output_type": "display_data"
    }
   ],
   "source": [
    "# training and testing data\n",
    "model = RandomForestRegressor()\n",
    "model.fit(x_train,y_train)\n",
    "y_pred = model.predict(x_test)\n",
    "plt.scatter(y_pred,y_test);"
   ]
  },
  {
   "cell_type": "code",
   "execution_count": 244,
   "id": "8d8cdb83",
   "metadata": {},
   "outputs": [
    {
     "data": {
      "text/plain": [
       "0.9795629671482405"
      ]
     },
     "execution_count": 244,
     "metadata": {},
     "output_type": "execute_result"
    }
   ],
   "source": [
    "model.score(x_test,y_test)"
   ]
  },
  {
   "cell_type": "code",
   "execution_count": 245,
   "id": "110c9274",
   "metadata": {},
   "outputs": [
    {
     "data": {
      "text/plain": [
       "Rank            0\n",
       "Name            0\n",
       "Country         0\n",
       "Sales           0\n",
       "Profit          0\n",
       "Assets          0\n",
       "Market_value    0\n",
       "dtype: int64"
      ]
     },
     "execution_count": 245,
     "metadata": {},
     "output_type": "execute_result"
    }
   ],
   "source": []
  },
  {
   "cell_type": "code",
   "execution_count": null,
   "id": "5f6a39a0",
   "metadata": {},
   "outputs": [],
   "source": []
  },
  {
   "cell_type": "code",
   "execution_count": null,
   "id": "3cb01b66",
   "metadata": {},
   "outputs": [],
   "source": []
  }
 ],
 "metadata": {
  "kernelspec": {
   "display_name": "Python 3 (ipykernel)",
   "language": "python",
   "name": "python3"
  },
  "language_info": {
   "codemirror_mode": {
    "name": "ipython",
    "version": 3
   },
   "file_extension": ".py",
   "mimetype": "text/x-python",
   "name": "python",
   "nbconvert_exporter": "python",
   "pygments_lexer": "ipython3",
   "version": "3.9.9"
  }
 },
 "nbformat": 4,
 "nbformat_minor": 5
}
